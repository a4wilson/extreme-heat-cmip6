{
  "cells": [
    {
      "cell_type": "markdown",
      "metadata": {
        "id": "0NW_4GIbtxrg"
      },
      "source": [
        "## Maximum Temperature Processing Script"
      ]
    },
    {
      "cell_type": "markdown",
      "metadata": {
        "id": "Yg6irjDItxri"
      },
      "source": [
        "Start by importing modules and setting up ESGF search"
      ]
    },
    {
      "cell_type": "code",
      "execution_count": null,
      "metadata": {
        "id": "ueWH-R8Itxrj",
        "outputId": "ec3cb32c-da0d-439e-da07-32c17e26acf4"
      },
      "outputs": [
        {
          "name": "stderr",
          "output_type": "stream",
          "text": [
            "/home/nick/anaconda2/lib/python2.7/site-packages/dask/config.py:168: YAMLLoadWarning: calling yaml.load() without Loader=... is deprecated, as the default Loader is unsafe. Please read https://msg.pyyaml.org/load for full details.\n",
            "  data = yaml.load(f.read()) or {}\n",
            "/home/nick/anaconda2/lib/python2.7/site-packages/distributed/config.py:20: YAMLLoadWarning: calling yaml.load() without Loader=... is deprecated, as the default Loader is unsafe. Please read https://msg.pyyaml.org/load for full details.\n",
            "  defaults = yaml.load(f)\n"
          ]
        }
      ],
      "source": [
        "from matplotlib import pyplot as plt\n",
        "import numpy as np\n",
        "import xarray as xr\n",
        "\n",
        "%matplotlib inline"
      ]
    },
    {
      "cell_type": "code",
      "execution_count": null,
      "metadata": {
        "id": "yzjGXtPVtxrk"
      },
      "outputs": [],
      "source": [
        "#!/usr/bin/env python\n",
        "from __future__ import print_function\n",
        "import requests\n",
        "import xml.etree.ElementTree as ET\n",
        "\n",
        "# Author: Unknown\n",
        "# I got the original version from a word document published by ESGF\n",
        "# https://docs.google.com/document/d/1pxz1Kd3JHfFp8vR2JCVBfApbsHmbUQQstifhGNdc6U0/edit?usp=sharing\n",
        "\n",
        "# API AT: https://github.com/ESGF/esgf.github.io/wiki/ESGF_Search_REST_API#results-pagination\n",
        "\n",
        "def esgf_search(server=\"https://esgf-node.llnl.gov/esg-search/search\",\n",
        "                files_type=\"OPENDAP\", local_node=True, project=\"CMIP6\",\n",
        "                verbose=False, format=\"application%2Fsolr%2Bjson\",\n",
        "                use_csrf=False, **search):\n",
        "    client = requests.session()\n",
        "    payload = search\n",
        "    payload[\"project\"] = project\n",
        "    payload[\"type\"]= \"File\"\n",
        "    if local_node:\n",
        "        payload[\"distrib\"] = \"false\"\n",
        "    if use_csrf:\n",
        "        client.get(server)\n",
        "        if 'csrftoken' in client.cookies:\n",
        "            # Django 1.6 and up\n",
        "            csrftoken = client.cookies['csrftoken']\n",
        "        else:\n",
        "            # older versions\n",
        "            csrftoken = client.cookies['csrf']\n",
        "        payload[\"csrfmiddlewaretoken\"] = csrftoken\n",
        "\n",
        "    payload[\"format\"] = format\n",
        "\n",
        "    offset = 0\n",
        "    numFound = 10000\n",
        "    all_files = []\n",
        "    files_type = files_type.upper()\n",
        "    while offset < numFound:\n",
        "        payload[\"offset\"] = offset\n",
        "        url_keys = []\n",
        "        for k in payload:\n",
        "            url_keys += [\"{}={}\".format(k, payload[k])]\n",
        "\n",
        "        url = \"{}/?{}\".format(server, \"&\".join(url_keys))\n",
        "        print(url)\n",
        "        r = client.get(url)\n",
        "        r.raise_for_status()\n",
        "        resp = r.json()[\"response\"]\n",
        "        numFound = int(resp[\"numFound\"])\n",
        "        resp = resp[\"docs\"]\n",
        "        offset += len(resp)\n",
        "        for d in resp:\n",
        "            if verbose:\n",
        "                for k in d:\n",
        "                    print(\"{}: {}\".format(k,d[k]))\n",
        "            url = d[\"url\"]\n",
        "            for f in d[\"url\"]:\n",
        "                sp = f.split(\"|\")\n",
        "                if sp[-1] == files_type:\n",
        "                    all_files.append(sp[0].split(\".html\")[0])\n",
        "    return sorted(all_files)"
      ]
    },
    {
      "cell_type": "code",
      "execution_count": null,
      "metadata": {
        "id": "81Dq3f6Ytxrl",
        "outputId": "5e103efb-531e-4e47-fe41-a36c8b1d3e5f"
      },
      "outputs": [
        {
          "name": "stdout",
          "output_type": "stream",
          "text": [
            "https://esgf-node.llnl.gov/esg-search/search/?activity_id=CMIP&variable_id=tas&format=application%2Fsolr%2Bjson&project=CMIP6&distrib=false&table_id=day&experiment_id=abrupt-4xCO2&offset=0&source_id=ACCESS-CM2&type=File\n",
            "[u'https://esgf-data1.llnl.gov/thredds/dodsC/css03_data/CMIP6/CMIP/CSIRO-ARCCSS/ACCESS-CM2/abrupt-4xCO2/r1i1p1f1/day/tas/gn/v20191108/tas_day_ACCESS-CM2_abrupt-4xCO2_r1i1p1f1_gn_09500101-09991231.nc', u'https://esgf-data1.llnl.gov/thredds/dodsC/css03_data/CMIP6/CMIP/CSIRO-ARCCSS/ACCESS-CM2/abrupt-4xCO2/r1i1p1f1/day/tas/gn/v20191108/tas_day_ACCESS-CM2_abrupt-4xCO2_r1i1p1f1_gn_10000101-10491231.nc', u'https://esgf-data1.llnl.gov/thredds/dodsC/css03_data/CMIP6/CMIP/CSIRO-ARCCSS/ACCESS-CM2/abrupt-4xCO2/r1i1p1f1/day/tas/gn/v20191108/tas_day_ACCESS-CM2_abrupt-4xCO2_r1i1p1f1_gn_10500101-10991231.nc']\n"
          ]
        }
      ],
      "source": [
        "##Use this module to search for files:\n",
        "model = 'ACCESS-CM2'\n",
        "activity = 'CMIP'#'ScenarioMIP' #CMIP\n",
        "scenario = 'abrupt-4xCO2'#ssp245' #piControl #abrupt4xCO2\n",
        "variable = 'tas'\n",
        "\n",
        "result = esgf_search(activity_id=activity, table_id='day', variable_id=variable,\n",
        "                                 experiment_id = scenario, source_id = model)\n",
        "files_to_open = result[:]\n",
        "print(result)"
      ]
    },
    {
      "cell_type": "code",
      "execution_count": null,
      "metadata": {
        "id": "-CnqOa51txrn",
        "outputId": "cdc442fc-ad44-4702-da8c-5050488f977c"
      },
      "outputs": [
        {
          "name": "stdout",
          "output_type": "stream",
          "text": [
            "https://esgf-node.llnl.gov/esg-search/search/?activity_id=CMIP&variable_id=sftlf&format=application%2Fsolr%2Bjson&project=CMIP6&distrib=false&table_id=fx&experiment_id=piControl&offset=0&source_id=ACCESS-CM2&type=File\n",
            "[u'http://esgf-data04.diasjp.net/thredds/dodsC/esg_dataroot/CMIP6/CMIP/CSIRO-ARCCSS/ACCESS-CM2/piControl/r1i1p1f1/fx/sftlf/gn/v20191112/sftlf_fx_ACCESS-CM2_piControl_r1i1p1f1_gn.nc', u'http://esgf-data1.llnl.gov/thredds/dodsC/css03_data/CMIP6/CMIP/CSIRO-ARCCSS/ACCESS-CM2/piControl/r1i1p1f1/fx/sftlf/gn/v20191112/sftlf_fx_ACCESS-CM2_piControl_r1i1p1f1_gn.nc']\n",
            "(144, 192)\n"
          ]
        }
      ],
      "source": [
        "##Use this module to search for land files:\n",
        "model = 'ACCESS-CM2'\n",
        "activity = 'CMIP' #CMIP\n",
        "scenario = 'piControl' #piControl #abrupt4xCO2\n",
        "variable = 'sftlf'\n",
        "\n",
        "result = esgf_search(activity_id=activity, table_id='fx', variable_id=variable,\n",
        "                                 experiment_id = scenario, source_id = model)\n",
        "files_to_open = result[:]\n",
        "print(result)\n",
        "\n",
        "#Print out land file resolution\n",
        "ds = xr.open_dataset(files_to_open[0])\n",
        "print(np.shape(ds.sftlf[:, :]))"
      ]
    },
    {
      "cell_type": "markdown",
      "metadata": {
        "id": "UwRxaKeAtxrn"
      },
      "source": [
        "# First do tas"
      ]
    },
    {
      "cell_type": "markdown",
      "metadata": {
        "id": "2737vcZgtxrp"
      },
      "source": [
        "## SSP2.45"
      ]
    },
    {
      "cell_type": "code",
      "execution_count": null,
      "metadata": {
        "id": "Rp7Uw-S5txrq"
      },
      "outputs": [],
      "source": [
        "#models which claim to have run these experiments:\n",
        "models = [\"ACCESS-CM2\", \"ACCESS-ESM1-5\", \"AWI-CM-1-1-MR\", \"CAMS-CSM1-0\", \"CMCC-CM2-SR5\", \"CMCC-ESM2\",\n",
        "          \"CNRM-CM6-1\",\"CNRM-CM6-1-HR\", \"CNRM-ESM2-1\", \"EC-Earth3\", \"EC-Earth3-CC\",\n",
        "          \"EC-Earth3-Veg\", \"EC-Earth3-Veg-LR\", \"GFDL-CM4\",  \"GFDL-ESM4\", \"HadGEM3-GC31-LL\",\n",
        "         \"IITM-ESM\", \"INM-CM4-8\", \"INM-CM5-0\", \"IPSL-CM6A-LR\",\n",
        "          \"NorESM2-LM\", \"NorESM2-MM\", \"TaiESM1\",\n",
        "          \"UKESM1-0-LL\", \"UKESM1-1-LL\"]\n",
        "m = len(models)\n",
        "\n",
        "lim = [2, 2, 86, 1, 4, 4, 1, 2, 1, 86, 86, 86, 86, 5, 5,  2, 17, 2, 2, 1, 9, 9, 9, 2, 2 ]\n",
        "\n",
        "issues = [\"CAMS-CSM1-0\",\"CNRM-CM6-1\",\"CNRM-ESM2-1\",\"GFDL-CM4\"]"
      ]
    },
    {
      "cell_type": "code",
      "execution_count": null,
      "metadata": {
        "id": "h9wd7ju-txrq"
      },
      "outputs": [],
      "source": [
        "#Use these to open land files\n",
        "land_models = [\"ACCESS-CM2\", \"ACCESS-ESM1-5\", \"AWI-CM-1-1-MR\", \"CAMS-CSM1-0\", \"CMCC-CM2-SR5\", \"CMCC-ESM2\",\n",
        "          \"CNRM-CM6-1\",\"CNRM-CM6-1-HR\", \"CNRM-ESM2-1\", \"EC-Earth3\", \"EC-Earth3-CC\",\n",
        "          \"EC-Earth3-Veg\", \"EC-Earth3-Veg-LR\", \"GFDL-CM4\",  \"GFDL-ESM4\", \"HadGEM3-GC31-LL\",\n",
        "         \"IITM-ESM\", \"INM-CM4-8\", \"INM-CM5-0\", \"IPSL-CM6A-LR\",\n",
        "          \"NorESM2-LM\", \"NorESM2-MM\", \"TaiESM1\",\n",
        "          \"UKESM1-0-LL\", \"UKESM1-1-LL\"]"
      ]
    },
    {
      "cell_type": "code",
      "execution_count": null,
      "metadata": {
        "id": "G95Wy0IPtxrs",
        "outputId": "3fd9f52d-0022-4c1c-80f4-e8e8a71df3df"
      },
      "outputs": [
        {
          "name": "stdout",
          "output_type": "stream",
          "text": [
            "doing ACCESS-CM2\n",
            "https://esgf-node.llnl.gov/esg-search/search/?activity_id=ScenarioMIP&variable_id=tas&format=application%2Fsolr%2Bjson&project=CMIP6&distrib=false&table_id=day&experiment_id=ssp245&offset=0&source_id=ACCESS-CM2&type=File\n",
            "https://esgf-node.llnl.gov/esg-search/search/?activity_id=ScenarioMIP&variable_id=tas&format=application%2Fsolr%2Bjson&project=CMIP6&distrib=false&table_id=day&experiment_id=ssp245&offset=10&source_id=ACCESS-CM2&type=File\n",
            "https://esgf-node.llnl.gov/esg-search/search/?activity_id=CMIP&variable_id=sftlf&format=application%2Fsolr%2Bjson&project=CMIP6&distrib=false&table_id=fx&experiment_id=piControl&offset=0&source_id=ACCESS-CM2&type=File\n",
            "loaded data, get annual maxima\n",
            "0\n",
            "<xarray.DataArray 'tas' (time: 365, lat: 72, lon: 192)>\n",
            "dask.array<shape=(365, 72, 192), dtype=float64, chunksize=(365, 72, 192)>\n",
            "Coordinates:\n",
            "  * lat      (lat) float64 -44.38 -43.12 -41.88 -40.62 ... 41.88 43.12 44.38\n",
            "  * lon      (lon) float64 0.9375 2.812 4.688 6.562 ... 353.4 355.3 357.2 359.1\n",
            "    height   float64 2.0\n",
            "  * time     (time) datetime64[ns] 2015-01-01T12:00:00 ... 2015-12-31T12:00:00 <xarray.DataArray 'tas' ()>\n",
            "dask.array<shape=(), dtype=float64, chunksize=()>\n",
            "Coordinates:\n",
            "    height   float64 2.0\n"
          ]
        }
      ],
      "source": [
        "#Loop through models and calculate global-mean temperature, land temperatures and maximum daily-mean temperatures\n",
        "\n",
        "for i in range(1):\n",
        "    print(\"doing\", models[i])\n",
        "    result = esgf_search(activity_id='ScenarioMIP', table_id='day', variable_id='tas',\n",
        "                                 experiment_id = 'ssp245', source_id = models[i])\n",
        "\n",
        "    if lim[i] == 1:\n",
        "        files_to_open = result[:]\n",
        "        ds = xr.open_dataset(files_to_open[0])\n",
        "    elif i == 13 or i == 19:\n",
        "        files_to_open = result[:lim[i]]\n",
        "        ds = xr.open_mfdataset(files_to_open, chunks={'time': '100MB'}, decode_times=False)\n",
        "    else:\n",
        "        files_to_open = result[:lim[i]]\n",
        "        ds = xr.open_mfdataset(files_to_open)\n",
        "\n",
        "    result2 = esgf_search(activity_id='CMIP', table_id='fx', variable_id='sftlf',\n",
        "                                 experiment_id = 'piControl', source_id = land_models[i])\n",
        "\n",
        "    ds2 = xr.open_dataset(result2[0])\n",
        "    land_mask = ds2.sftlf[:, :]\n",
        "    mask = np.ma.masked_where(land_mask > 50., land_mask)\n",
        "    mask = np.ma.getmask(mask)\n",
        "\n",
        "    print(\"loaded data, get annual maxima\")\n",
        "\n",
        "    lat = ds.lat[:]\n",
        "    lon = ds.lon[:]\n",
        "\n",
        "    rad_lat = lat * np.pi / 180.\n",
        "    rad_lon = lon * np.pi / 180.\n",
        "    cos_lat = np.cos(rad_lat)\n",
        "\n",
        "    #average between 45N and 45N\n",
        "    l1 = np.where(lat > -45.)\n",
        "    l1 = np.min(l1)\n",
        "    l2 = np.where(lat > 45.)\n",
        "    l2 = np.min(l2)\n",
        "\n",
        "    weighting = mask[l1:l2] * np.expand_dims(cos_lat[l1:l2], axis = 1)\n",
        "    global_mean = np.sum(weighting)\n",
        "    weighting /= global_mean\n",
        "\n",
        "    if i == 15:\n",
        "        l = 85\n",
        "    else:\n",
        "        l = 86\n",
        "\n",
        "    mean_land_temps = np.zeros(l) #array to store data\n",
        "    mean_temps = np.zeros(l) #array to store data\n",
        "    max_temps = np.zeros(l) #array to store data\n",
        "\n",
        "    for j in range( 1 ):\n",
        "        if j % 10 == 0:\n",
        "            print(j)\n",
        "        land_temp = ds.tas[j * 365:(j + 1) * 365, l1:l2] * np.expand_dims(weighting[:], axis = 0)\n",
        "        print(land_temp, np.sum(land_temp))\n",
        "        mean_land_temps[j] = np.sum(land_temp) / 365.\n",
        "    \"\"\"\n",
        "        yearly_mean = np.mean(ds.tas[j * 365:(j + 1) * 365], axis = 0)\n",
        "        mean_temps[j] = np.trapz(np.trapz(yearly_mean * np.expand_dims(cos_lat, axis = 1), rad_lon, axis = 1), rad_lat, axis = 0) / 4. / np.pi\n",
        "\n",
        "        max_temps[j] = np.max(ds.tas[j * 365:(j + 1) * 365, :])\n",
        "\n",
        "    #Save's\n",
        "    np.save(\"ssp_data/\" + models[i] + \"_max_daily_temp\", max_temps)\n",
        "    np.save(\"ssp_data/\" + models[i] + \"_mean_temp\", mean_temps)\n",
        "    np.save(\"ssp_data/\" + models[i] + \"_mean_land_temp\", mean_land_temps)\n",
        "    \"\"\""
      ]
    },
    {
      "cell_type": "code",
      "execution_count": null,
      "metadata": {
        "id": "-B_OIFy2txrt",
        "outputId": "b896cadc-0e07-40d2-dc90-d4487c43f21a"
      },
      "outputs": [
        {
          "name": "stdout",
          "output_type": "stream",
          "text": [
            "<xarray.DataArray 'tas' ()>\n",
            "dask.array<shape=(), dtype=float64, chunksize=()>\n",
            "Coordinates:\n",
            "    height   float64 2.0\n"
          ]
        }
      ],
      "source": [
        "print(np.sum(land_temp))"
      ]
    },
    {
      "cell_type": "markdown",
      "metadata": {
        "id": "RNkCDkRLtxrv"
      },
      "source": [
        "## Abrupt 4XCO2"
      ]
    },
    {
      "cell_type": "code",
      "execution_count": null,
      "metadata": {
        "id": "-QVYQxjMtxrv"
      },
      "outputs": [],
      "source": [
        "#models which claim to have run these experiments (might be different from above)\n",
        "models = [\"ACCESS-CM2\", \"ACCESS-ESM1-5\", \"AWI-CM-1-1-MR\", \"CAMS-CSM1-0\", \"CMCC-CM2-SR5\", \"CMCC-ESM2\",\n",
        "          \"CNRM-CM6-1\",\"CNRM-CM6-1-HR\", \"CNRM-ESM2-1\", \"EC-Earth3\", \"EC-Earth3-CC\",\n",
        "          \"EC-Earth3-Veg\", \"EC-Earth3-Veg-LR\", \"GFDL-CM4\",  \"GFDL-ESM4\", \"HadGEM3-GC31-LL\",\n",
        "         \"IITM-ESM\", \"INM-CM4-8\", \"INM-CM5-0\", \"IPSL-CM6A-LR\",\n",
        "          \"NorESM2-LM\", \"NorESM2-MM\", \"TaiESM1\",\n",
        "          \"UKESM1-0-LL\", \"UKESM1-1-LL\"]\n",
        "m = len(models)\n",
        "\n",
        "lim = [3, 2, 86, 1, 4, 4, 1, 2, 1, 86, 86, 86, 86, 5, 5,  2, 17, 2, 2, 1, 9, 9, 9, 2, 2 ]\n",
        "\n",
        "issues = [\"CAMS-CSM1-0\",\"CNRM-CM6-1\",\"CNRM-ESM2-1\",\"GFDL-CM4\"]"
      ]
    },
    {
      "cell_type": "code",
      "execution_count": null,
      "metadata": {
        "id": "jenLDyGRtxrw",
        "outputId": "fdc5d323-8e70-490b-e825-b5351649fa5f"
      },
      "outputs": [
        {
          "name": "stdout",
          "output_type": "stream",
          "text": [
            "doing ACCESS-CM2\n",
            "https://esgf-node.llnl.gov/esg-search/search/?activity_id=CMIP&variable_id=tas&format=application%2Fsolr%2Bjson&project=CMIP6&distrib=false&table_id=day&experiment_id=abrupt-4xCO2&offset=0&source_id=ACCESS-CM2&type=File\n",
            "https://esgf-node.llnl.gov/esg-search/search/?activity_id=CMIP&variable_id=sftlf&format=application%2Fsolr%2Bjson&project=CMIP6&distrib=false&table_id=fx&experiment_id=piControl&offset=0&source_id=ACCESS-CM2&type=File\n",
            "loaded data, get annual maxima\n",
            "0\n"
          ]
        },
        {
          "ename": "ValueError",
          "evalue": "setting an array element with a sequence.",
          "output_type": "error",
          "traceback": [
            "\u001b[0;31m---------------------------------------------------------------------------\u001b[0m",
            "\u001b[0;31mValueError\u001b[0m                                Traceback (most recent call last)",
            "\u001b[0;32m<ipython-input-31-19944562c960>\u001b[0m in \u001b[0;36m<module>\u001b[0;34m()\u001b[0m\n\u001b[1;32m     50\u001b[0m             \u001b[0;32mprint\u001b[0m\u001b[0;34m(\u001b[0m\u001b[0mj\u001b[0m\u001b[0;34m)\u001b[0m\u001b[0;34m\u001b[0m\u001b[0m\n\u001b[1;32m     51\u001b[0m         \u001b[0mland_temp\u001b[0m \u001b[0;34m=\u001b[0m \u001b[0mds\u001b[0m\u001b[0;34m.\u001b[0m\u001b[0mtas\u001b[0m\u001b[0;34m[\u001b[0m\u001b[0mj\u001b[0m \u001b[0;34m*\u001b[0m \u001b[0;36m365\u001b[0m\u001b[0;34m:\u001b[0m\u001b[0;34m(\u001b[0m\u001b[0mj\u001b[0m \u001b[0;34m+\u001b[0m \u001b[0;36m1\u001b[0m\u001b[0;34m)\u001b[0m \u001b[0;34m*\u001b[0m \u001b[0;36m365\u001b[0m\u001b[0;34m,\u001b[0m \u001b[0ml1\u001b[0m\u001b[0;34m:\u001b[0m\u001b[0ml2\u001b[0m\u001b[0;34m]\u001b[0m \u001b[0;34m*\u001b[0m \u001b[0mnp\u001b[0m\u001b[0;34m.\u001b[0m\u001b[0mexpand_dims\u001b[0m\u001b[0;34m(\u001b[0m\u001b[0mweighting\u001b[0m\u001b[0;34m[\u001b[0m\u001b[0;34m:\u001b[0m\u001b[0;34m]\u001b[0m\u001b[0;34m,\u001b[0m \u001b[0maxis\u001b[0m \u001b[0;34m=\u001b[0m \u001b[0;36m0\u001b[0m\u001b[0;34m)\u001b[0m\u001b[0;34m\u001b[0m\u001b[0m\n\u001b[0;32m---> 52\u001b[0;31m         \u001b[0mmean_land_temps\u001b[0m\u001b[0;34m[\u001b[0m\u001b[0mj\u001b[0m\u001b[0;34m]\u001b[0m \u001b[0;34m=\u001b[0m \u001b[0mnp\u001b[0m\u001b[0;34m.\u001b[0m\u001b[0msum\u001b[0m\u001b[0;34m(\u001b[0m\u001b[0mland_temp\u001b[0m\u001b[0;34m)\u001b[0m \u001b[0;34m/\u001b[0m \u001b[0;36m365.\u001b[0m\u001b[0;34m\u001b[0m\u001b[0m\n\u001b[0m\u001b[1;32m     53\u001b[0m \u001b[0;34m\u001b[0m\u001b[0m\n\u001b[1;32m     54\u001b[0m         \u001b[0myearly_mean\u001b[0m \u001b[0;34m=\u001b[0m \u001b[0mnp\u001b[0m\u001b[0;34m.\u001b[0m\u001b[0mmean\u001b[0m\u001b[0;34m(\u001b[0m\u001b[0mds\u001b[0m\u001b[0;34m.\u001b[0m\u001b[0mtas\u001b[0m\u001b[0;34m[\u001b[0m\u001b[0mj\u001b[0m \u001b[0;34m*\u001b[0m \u001b[0;36m365\u001b[0m\u001b[0;34m:\u001b[0m\u001b[0;34m(\u001b[0m\u001b[0mj\u001b[0m \u001b[0;34m+\u001b[0m \u001b[0;36m1\u001b[0m\u001b[0;34m)\u001b[0m \u001b[0;34m*\u001b[0m \u001b[0;36m365\u001b[0m\u001b[0;34m]\u001b[0m\u001b[0;34m,\u001b[0m \u001b[0maxis\u001b[0m \u001b[0;34m=\u001b[0m \u001b[0;36m0\u001b[0m\u001b[0;34m)\u001b[0m\u001b[0;34m\u001b[0m\u001b[0m\n",
            "\u001b[0;31mValueError\u001b[0m: setting an array element with a sequence."
          ]
        }
      ],
      "source": [
        "#Loop through models and calculate global-mean temperature, land temperatures and maximum daily-mean temperatures\n",
        "\n",
        "for i in range(1):\n",
        "    print(\"doing\", models[i])\n",
        "    result = esgf_search(activity_id='CMIP', table_id='day', variable_id='tas',\n",
        "                                 experiment_id = 'abrupt-4xCO2', source_id = models[i])\n",
        "\n",
        "    if lim[i] == 1:\n",
        "        files_to_open = result[:]\n",
        "        ds = xr.open_dataset(files_to_open[0])\n",
        "    else:\n",
        "        files_to_open = result[:lim[i]]\n",
        "        ds = xr.open_mfdataset(files_to_open, chunks={'time': '100MB'}, decode_times=False)\n",
        "\n",
        "    result2 = esgf_search(activity_id='CMIP', table_id='fx', variable_id='sftlf',\n",
        "                                 experiment_id = 'piControl', source_id = land_models[i])\n",
        "\n",
        "    ds2 = xr.open_dataset(result2[0])\n",
        "    land_mask = ds2.sftlf[:, :]\n",
        "    mask = np.ma.masked_where(land_mask > 50., land_mask)\n",
        "    mask = np.ma.getmask(mask)\n",
        "\n",
        "    print(\"loaded data, get annual maxima\")\n",
        "\n",
        "    lat = ds.lat[:]\n",
        "    lon = ds.lon[:]\n",
        "\n",
        "    rad_lat = lat * np.pi / 180.\n",
        "    rad_lon = lon * np.pi / 180.\n",
        "    cos_lat = np.cos(rad_lat)\n",
        "\n",
        "    #average between 45N and 45N\n",
        "    l1 = np.where(lat > -45.)\n",
        "    l1 = np.min(l1)\n",
        "    l2 = np.where(lat > 45.)\n",
        "    l2 = np.min(l2)\n",
        "\n",
        "    weighting = mask[l1:l2] * np.expand_dims(cos_lat[l1:l2], axis = 1)\n",
        "    global_mean = np.sum(weighting)\n",
        "    weighting /= global_mean\n",
        "\n",
        "    l = 140\n",
        "\n",
        "    mean_land_temps = np.zeros(l) #array to store data\n",
        "    mean_temps = np.zeros(l) #array to store data\n",
        "    max_temps = np.zeros(l) #array to store data\n",
        "\n",
        "    for j in range( l ):\n",
        "        if j % 10 == 0:\n",
        "            print(j)\n",
        "        land_temp = ds.tas[j * 365:(j + 1) * 365, l1:l2] * np.expand_dims(weighting[:], axis = 0)\n",
        "        mean_land_temps[j] = np.float(np.sum(land_temp) / 365.)\n",
        "\n",
        "        yearly_mean = np.mean(ds.tas[j * 365:(j + 1) * 365], axis = 0)\n",
        "        mean_temps[j] = np.trapz(np.trapz(yearly_mean * np.expand_dims(cos_lat, axis = 1), rad_lon, axis = 1), rad_lat, axis = 0) / 4. / np.pi\n",
        "\n",
        "        max_temps[j] = np.max(ds.tas[j * 365:(j + 1) * 365, :])\n",
        "\n",
        "    #Save's\n",
        "    np.save(\"abrupt4x_data/\" + models[i] + \"_max_daily_temp\", max_temps)\n",
        "    np.save(\"abrupt4x_data/\" + models[i] + \"_mean_temp\", mean_temps)\n",
        "    np.save(\"abrupt4x_data/\" + models[i] + \"_mean_land_temp\", mean_land_temps)\n"
      ]
    },
    {
      "cell_type": "markdown",
      "metadata": {
        "id": "DgjsAoUutxrw"
      },
      "source": [
        "## Pi Control\n",
        "\n",
        "want these to take difference with abrupt-4x runs"
      ]
    },
    {
      "cell_type": "code",
      "execution_count": null,
      "metadata": {
        "id": "CbhtAbQ5txrx"
      },
      "outputs": [],
      "source": [
        "#models which claim to have run these experiments (might be different from above)\n",
        "models = [\"ACCESS-CM2\", \"ACCESS-ESM1-5\", \"AWI-CM-1-1-MR\", \"CAMS-CSM1-0\", \"CMCC-CM2-SR5\", \"CMCC-ESM2\",\n",
        "          \"CNRM-CM6-1\",\"CNRM-CM6-1-HR\", \"CNRM-ESM2-1\", \"EC-Earth3\", \"EC-Earth3-CC\",\n",
        "          \"EC-Earth3-Veg\", \"EC-Earth3-Veg-LR\", \"GFDL-CM4\",  \"GFDL-ESM4\", \"HadGEM3-GC31-LL\",\n",
        "         \"IITM-ESM\", \"INM-CM4-8\", \"INM-CM5-0\", \"IPSL-CM6A-LR\",\n",
        "          \"NorESM2-LM\", \"NorESM2-MM\", \"TaiESM1\",\n",
        "          \"UKESM1-0-LL\", \"UKESM1-1-LL\"]\n",
        "m = len(models)\n",
        "\n",
        "lim = [3, 2, 86, 1, 4, 4, 1, 2, 1, 86, 86, 86, 86, 5, 5,  2, 17, 2, 2, 1, 9, 9, 9, 2, 2 ]\n",
        "\n",
        "issues = [\"CAMS-CSM1-0\",\"CNRM-CM6-1\",\"CNRM-ESM2-1\",\"GFDL-CM4\"]"
      ]
    },
    {
      "cell_type": "code",
      "execution_count": null,
      "metadata": {
        "id": "hxjZcspftxrx"
      },
      "outputs": [],
      "source": [
        "#Loop through models and calculate global-mean temperature, land temperatures and maximum daily-mean temperatures\n",
        "\n",
        "for i in range(1):\n",
        "    print(\"doing\", models[i])\n",
        "    result = esgf_search(activity_id='CMIP', table_id='day', variable_id='tas',\n",
        "                                 experiment_id = 'piControl', source_id = models[i])\n",
        "\n",
        "    if lim[i] == 1:\n",
        "        files_to_open = result[:]\n",
        "        ds = xr.open_dataset(files_to_open[0])\n",
        "    else:\n",
        "        files_to_open = result[:lim[i]]\n",
        "        ds = xr.open_mfdataset(files_to_open, chunks={'time': '100MB'}, decode_times=False)\n",
        "\n",
        "\n",
        "    result2 = esgf_search(activity_id='CMIP', table_id='fx', variable_id='sftlf',\n",
        "                                 experiment_id = 'piControl', source_id = land_models[i])\n",
        "\n",
        "    ds2 = xr.open_dataset(result2[0])\n",
        "    land_mask = ds2.sftlf[:, :]\n",
        "    mask = np.ma.masked_where(land_mask > 50., land_mask)\n",
        "    mask = np.ma.getmask(mask)\n",
        "\n",
        "    print(\"loaded data, get annual maxima\")\n",
        "\n",
        "    lat = ds.lat[:]\n",
        "    lon = ds.lon[:]\n",
        "\n",
        "    rad_lat = lat * np.pi / 180.\n",
        "    rad_lon = lon * np.pi / 180.\n",
        "    cos_lat = np.cos(rad_lat)\n",
        "\n",
        "    #average between 45N and 45N\n",
        "    l1 = np.where(lat > -45.)\n",
        "    l1 = np.min(l1)\n",
        "    l2 = np.where(lat > 45.)\n",
        "    l2 = np.min(l2)\n",
        "\n",
        "    weighting = mask[l1:l2] * np.expand_dims(cos_lat[l1:l2], axis = 1)\n",
        "    global_mean = np.sum(weighting)\n",
        "    weighting /= global_mean\n",
        "\n",
        "    if i == 15:\n",
        "        l = 85\n",
        "    else:\n",
        "        l = 86\n",
        "\n",
        "    mean_land_temps = np.zeros(l) #array to store data\n",
        "    mean_temps = np.zeros(l) #array to store data\n",
        "    max_temps = np.zeros(l) #array to store data\n",
        "\n",
        "    for j in range( l ):\n",
        "        if j % 10 == 0:\n",
        "            print(j)\n",
        "        land_temp = ds.tas[j * 365:(j + 1) * 365, l1:l2] * np.expand_dims(weighting[:], axis = 0)\n",
        "        mean_land_temps[j] = np.sum(land_temp) / 365.\n",
        "\n",
        "        yearly_mean = np.mean(ds.tas[j * 365:(j + 1) * 365], axis = 0)\n",
        "        mean_temps[j] = np.trapz(np.trapz(yearly_mean * np.expand_dims(cos_lat, axis = 1), rad_lon, axis = 1), rad_lat, axis = 0) / 4. / np.pi\n",
        "\n",
        "        max_temps[j] = np.max(ds.tas[j * 365:(j + 1) * 365, :])\n",
        "\n",
        "    #Save's\n",
        "    np.save(\"picontrol_data/\" + models[i] + \"_max_daily_temp\", max_temps)\n",
        "    np.save(\"picontrol_data/\" + models[i] + \"_mean_temp\", mean_temps)\n",
        "    np.save(\"picontrol_data/\" + models[i] + \"_mean_land_temp\", mean_land_temps)\n"
      ]
    }
  ],
  "metadata": {
    "kernelspec": {
      "display_name": "Python 2",
      "language": "python",
      "name": "python2"
    },
    "language_info": {
      "codemirror_mode": {
        "name": "ipython",
        "version": 2
      },
      "file_extension": ".py",
      "mimetype": "text/x-python",
      "name": "python",
      "nbconvert_exporter": "python",
      "pygments_lexer": "ipython2",
      "version": "2.7.16"
    },
    "colab": {
      "provenance": []
    }
  },
  "nbformat": 4,
  "nbformat_minor": 0
}