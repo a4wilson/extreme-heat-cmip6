{
  "cells": [
    {
      "cell_type": "markdown",
      "metadata": {
        "id": "BoZ51xr1rsdY"
      },
      "source": [
        "# Plot max temp data"
      ]
    },
    {
      "cell_type": "code",
      "execution_count": null,
      "metadata": {
        "id": "oiYhRftHrsda"
      },
      "outputs": [],
      "source": [
        "from matplotlib import pyplot as plt\n",
        "import numpy as np\n",
        "import scipy.stats as ss"
      ]
    },
    {
      "cell_type": "code",
      "execution_count": null,
      "metadata": {
        "id": "KPGSa6X1rsdb",
        "outputId": "04349f69-beaf-42ec-a88c-74ce2d3694d3"
      },
      "outputs": [
        {
          "name": "stdout",
          "output_type": "stream",
          "text": [
            "24\n",
            "21\n",
            "24\n",
            "21\n",
            "24\n",
            "21\n"
          ]
        }
      ],
      "source": [
        "#models which claim to have run these experiments:\n",
        "ssp_models = [\"ACCESS-CM2\", \"ACCESS-ESM1-5\", \"AWI-CM-1-1-MR\", \"BCC-CSM2-MR\", \"CanESM5\", \"CMCC-CM2-SR5\", \"CMCC-ESM2\",\"CNRM-CM6-1\",\"CNRM-CM6-1-HR\",\"CNRM-ESM2-1\", \"EC-Earth3\", \"EC-Earth3-CC\",\n",
        "          \"EC-Earth3-Veg\", \"EC-Earth3-Veg-LR\", \"GFDL-CM4\", \"GFDL-ESM4\", \"HadGEM3-GC31-LL\",\n",
        "          \"IITM-ESM\", \"INM-CM4-8\", \"INM-CM5-0\", \"NorESM2-LM\", \"NorESM2-MM\", \"TaiESM1\", \"UKESM1-0-LL\"]#, \"IPSL-CM6A-LR\", \"UKESM1-0-LL\", \"UKESM1-1-LL\", \"CAMS-CSM1-0\",\"CNRM-ESM2-1\"]\n",
        "m = len(ssp_models)\n",
        "print(m)\n",
        "\n",
        "sspmax_models = [\"ACCESS-CM2\", \"ACCESS-ESM1-5\", \"AWI-CM-1-1-MR\", \"BCC-CSM2-MR\", \"CanESM5\", \"CMCC-ESM2\", \"CNRM-CM6-1\", \"CNRM-ESM2-1\", \"EC-Earth3\", \"EC-Earth3-CC\", \"EC-Earth3-Veg\"\n",
        "          , \"EC-Earth3-Veg-LR\", \"GFDL-CM4\", \"GFDL-ESM4\", \"HadGEM3-GC31-LL\", \"INM-CM4-8\", \"INM-CM5-0\", \"NorESM2-LM\"\n",
        "          , \"NorESM2-MM\", \"TaiESM1\", \"UKESM1-0-LL\"]\n",
        "m2 = len(sspmax_models)\n",
        "print(m2)\n",
        "\n",
        "abrupt_models = [\"ACCESS-CM2\", \"ACCESS-ESM1-5\", \"AWI-CM-1-1-MR\", \"BCC-CSM2-MR\", \"CanESM5\", \"CMCC-CM2-SR5\", \"CMCC-ESM2\",\"CNRM-CM6-1\",\"CNRM-CM6-1-HR\",\"CNRM-ESM2-1\", \"EC-Earth3\", \"EC-Earth3-CC\",\n",
        "          \"EC-Earth3-Veg\", \"EC-Earth3-Veg-LR\", \"GFDL-CM4\", \"GFDL-ESM4\", \"HadGEM3-GC31-LL\",\n",
        "          \"IITM-ESM\", \"INM-CM4-8\", \"INM-CM5-0\", \"NorESM2-LM\", \"NorESM2-MM\", \"TaiESM1\", \"UKESM1-0-LL\"]#, \"IPSL-CM6A-LR\", \"UKESM1-0-LL\", \"UKESM1-1-LL\", \"CAMS-CSM1-0\",\"CNRM-ESM2-1\"]\n",
        "m3 = len(abrupt_models)\n",
        "print(m3)\n",
        "\n",
        "abruptmax_models = [\"ACCESS-CM2\", \"ACCESS-ESM1-5\", \"AWI-CM-1-1-MR\", \"BCC-CSM2-MR\", \"CanESM5\", \"CMCC-ESM2\", \"CNRM-CM6-1\", \"CNRM-ESM2-1\", \"EC-Earth3\", \"EC-Earth3-CC\", \"EC-Earth3-Veg\"\n",
        "          , \"EC-Earth3-Veg-LR\", \"GFDL-CM4\", \"GFDL-ESM4\", \"HadGEM3-GC31-LL\", \"INM-CM4-8\", \"INM-CM5-0\", \"NorESM2-LM\"\n",
        "          , \"NorESM2-MM\", \"TaiESM1\", \"UKESM1-0-LL\"]\n",
        "m4 = len(abruptmax_models)\n",
        "print(m4)\n",
        "\n",
        "pi_models = [\"ACCESS-CM2\", \"ACCESS-ESM1-5\", \"AWI-CM-1-1-MR\", \"BCC-CSM2-MR\", \"CanESM5\", \"CMCC-CM2-SR5\", \"CMCC-ESM2\",\"CNRM-CM6-1\",\"CNRM-CM6-1-HR\",\"CNRM-ESM2-1\", \"EC-Earth3\", \"EC-Earth3-CC\",\n",
        "          \"EC-Earth3-Veg\", \"EC-Earth3-Veg-LR\", \"GFDL-CM4\", \"GFDL-ESM4\", \"HadGEM3-GC31-LL\",\n",
        "          \"IITM-ESM\", \"INM-CM4-8\", \"INM-CM5-0\", \"NorESM2-LM\", \"NorESM2-MM\", \"TaiESM1\", \"UKESM1-0-LL\"]#, \"IPSL-CM6A-LR\", \"UKESM1-0-LL\", \"UKESM1-1-LL\", \"CAMS-CSM1-0\",\"CNRM-ESM2-1\"]\n",
        "m5 = len(pi_models)\n",
        "print(m5)\n",
        "\n",
        "pimax_models = [\"ACCESS-CM2\", \"ACCESS-ESM1-5\", \"AWI-CM-1-1-MR\", \"BCC-CSM2-MR\", \"CanESM5\", \"CMCC-ESM2\", \"CNRM-CM6-1\", \"CNRM-ESM2-1\", \"EC-Earth3\", \"EC-Earth3-CC\", \"EC-Earth3-Veg\"\n",
        "          , \"EC-Earth3-Veg-LR\", \"GFDL-CM4\", \"GFDL-ESM4\", \"HadGEM3-GC31-LL\", \"INM-CM4-8\", \"INM-CM5-0\", \"NorESM2-LM\"\n",
        "          , \"NorESM2-MM\", \"TaiESM1\", \"UKESM1-0-LL\"]\n",
        "m6 = len(pimax_models)\n",
        "print(m6)\n",
        "\n",
        "#some of the models have errors which decreased the amount of models"
      ]
    },
    {
      "cell_type": "markdown",
      "metadata": {
        "id": "XtYlnQFPrsdc"
      },
      "source": [
        "## Load data"
      ]
    },
    {
      "cell_type": "code",
      "execution_count": null,
      "metadata": {
        "id": "bjr2CWnsrsdd"
      },
      "outputs": [],
      "source": [
        "#First do SSP245\n",
        "time = np.arange(2015, 2100, 1)\n",
        "\n",
        "ssp = np.zeros( ( ( 4, m, 85)))\n",
        "slopes = np.zeros( ( 4, m))\n",
        "\n",
        "for i in range( m ):\n",
        "    ssp[0, i] = np.load( \"ssp_data/\" + ssp_models[i] + \"_max_daily_temp.npy\")[:85]\n",
        "    ssp[1, i] = np.load( \"ssp_data/\" + ssp_models[i] + \"_mean_temp.npy\")[:85]\n",
        "    ssp[2, i] = np.load( \"ssp_data/\" + ssp_models[i] + \"_mean_land_temp.npy\")[:85]\n",
        "\n",
        "    slopes[0, i] = ss.linregress(time, ssp[0, i])[0] * 10. #multiply by 10 so have change/decade\n",
        "    slopes[1, i] = ss.linregress(time, ssp[1, i])[0] * 10.\n",
        "    slopes[2, i] = ss.linregress(time, ssp[2, i])[0] * 10.\n",
        "\n",
        "for i in range(m2):\n",
        "    hist[3, i] = np.load( \"ssp_data/\" + sspmax_models[i] + \"_max_dailymax_temp.npy\")[:85]\n",
        "    slopes[3, i] = ss.linregress(time, ssp[2, i])[0] * 10."
      ]
    },
    {
      "cell_type": "code",
      "execution_count": null,
      "metadata": {
        "id": "VZPZaTtWrsdd"
      },
      "outputs": [],
      "source": [
        "#Now abrupt and picontrol\n",
        "\n",
        "abrupt = np.zeros( (4, m3))\n",
        "picontrol = np.zeros( (4, m3))\n",
        "\n",
        "for i in range(m3):\n",
        "    #take averages over last 30 years of the simulations\n",
        "    abrupt4x[0, i] = np.mean(np.load( \"abrupt4x_data/\" + abrupt_models[i] + \"_max_daily_temp.npy\")[-30:])\n",
        "    abrupt4x[1, i] = np.mean(np.load( \"abrupt4x_data/\" + abrupt_models[i] + \"_mean_temp.npy\")[-30:])\n",
        "    abrupt4x[2, i] = np.mean(np.load( \"abrupt4x_data/\" + abrupt_models[i] + \"_mean_land_temp.npy\")[-30:])\n",
        "\n",
        "for i in range(m4):\n",
        "    abrupt4x[3, i] = np.mean(np.load( \"abrupt4x_data/\" + abruptmax_models[i] + \"_max_dailymax_temp.npy\")[-30:])\n",
        "\n",
        "for i in range(m5):\n",
        "    #take averages over last 30 years of the simulations\n",
        "    picontrol[0, i] = np.mean(np.load( \"picontrol_data/\" + pi_models[i] + \"_max_daily_temp.npy\")[:])\n",
        "    picontrol[1, i] = np.mean(np.load( \"picontrol_data/\" + pi_models[i] + \"_mean_temp.npy\")[:])\n",
        "    picontrol[2, i] = np.mean(np.load( \"picontrol_data/\" + pi_models[i] + \"_mean_land_temp.npy\")[:])\n",
        "\n",
        "for i in range(m6):\n",
        "    picontrol[3, i] = np.mean(np.load( \"picontrol_data/\" + pimax_models[i] + \"_max_dailymax_temp.npy\")[:])\n",
        "\n",
        "resp = abrupt - picontrol"
      ]
    },
    {
      "cell_type": "markdown",
      "metadata": {
        "id": "ag6kOJ1Frsdd"
      },
      "source": [
        "## Plot!"
      ]
    },
    {
      "cell_type": "code",
      "execution_count": null,
      "metadata": {
        "id": "o6eF7Q_Prsde"
      },
      "outputs": [],
      "source": [
        "# These are the \"Tableau 20\" colors as RGB.\n",
        "cs = [(31, 119, 180), (174, 199, 232), (255, 127, 14), (255, 187, 120),\n",
        "             (44, 160, 44), (152, 223, 138), (214, 39, 40), (255, 152, 150),\n",
        "             (148, 103, 189), (197, 176, 213), (140, 86, 75), (196, 156, 148),\n",
        "             (227, 119, 194), (247, 182, 210), (127, 127, 127), (199, 199, 199),\n",
        "             (188, 189, 34), (219, 219, 141), (23, 190, 207), (158, 218, 229)]\n",
        "\n",
        "# Scale the RGB values to the [0, 1] range, which is the format matplotlib accepts.\n",
        "for i in range(len(cs)):\n",
        "    r, g, b = cs[i]\n",
        "    cs[i] = (r / 255., g / 255., b / 255.)"
      ]
    },
    {
      "cell_type": "code",
      "execution_count": null,
      "metadata": {
        "id": "yb62X_kPrsde"
      },
      "outputs": [],
      "source": [
        "from matplotlib import gridspec\n",
        "\n",
        "fig = plt.figure( figsize = (14, 3) )\n",
        "fig.subplots_adjust(right = 0.96, top = 0.94, left = 0.1, bottom = 0.12, hspace = .4, wspace = 0.22)\n",
        "\n",
        "gs = gridspec.GridSpec(1, 3, width_ratios=[3, 1, 1])\n",
        "ax = plt.subplot(gs[0])\n",
        "plt.title(\"a)\", fontsize = 15, loc = \"left\")\n",
        "\n",
        "ax.plot(time, np.mean(hist[1, :] - np.mean(hist[1, :, :5], axis = 1)[:, np.newaxis], axis = 0) , color = cs[0])\n",
        "ax.plot(time, np.mean(hist[0, :] - np.mean(hist[0, :, :5], axis = 1)[:, np.newaxis], axis = 0) , color = cs[2])\n",
        "ax.plot(time, np.mean(hist[2, :m2] - np.mean(hist[2, :m2, :5], axis = 1)[:, np.newaxis], axis = 0) , color = cs[6])\n",
        "\n",
        "ax.set_xlabel(\"year\", fontsize = 14)\n",
        "ax.set_ylabel(\"temperature change [K]\", fontsize = 14)\n",
        "\n",
        "ax.set_xlim([2016, 2100])\n",
        "ax.set_ylim([-1.5, 5.])\n",
        "ax.set_yticks([0., 2., 4.])\n",
        "ax.set_xticks([2020, 2040, 2060, 2080, 2100])\n",
        "\n",
        "ax.set_xticklabels([2020, 2040, 2060, 2080, 2100], fontsize = 14)\n",
        "ax.set_yticklabels([0, 2, 4], fontsize = 14)\n",
        "\n",
        "plt.legend([\"$\\\\bar{T}$\", \"$T_D$\", \"$T_M$\"], ncol = 3, loc = \"upper left\", fontsize = 14, frameon = \"False\")\n",
        "\n",
        "plt.axhline(y = 0, color = 'k', linewidth = 0.5)\n",
        "\n",
        "ax2 = plt.subplot(gs[1])\n",
        "plt.title(\"b)\", fontsize = 15, loc = \"left\")\n",
        "\n",
        "bp = ax2.boxplot((slopes[1, :m] * 10., slopes[0, :m] * 10., slopes[2, :m2] * 10.), patch_artist=True)\n",
        "\n",
        "bp['boxes'][0].set_color(cs[0])\n",
        "bp['boxes'][0].set_alpha(0.5)\n",
        "bp['boxes'][1].set_color(cs[2])\n",
        "bp['boxes'][1].set_alpha(0.5)\n",
        "bp['boxes'][2].set_color(cs[6])\n",
        "bp['boxes'][2].set_alpha(0.5)\n",
        "\n",
        "bp['medians'][0].set_color(cs[0])\n",
        "bp['medians'][1].set_color(cs[2])\n",
        "bp['medians'][2].set_color(cs[6])\n",
        "\n",
        "bp['caps'][0].set_color(cs[0])\n",
        "bp['caps'][1].set_color(cs[0])\n",
        "bp['caps'][2].set_color(cs[2])\n",
        "bp['caps'][3].set_color(cs[2])\n",
        "bp['caps'][4].set_color(cs[6])\n",
        "bp['caps'][5].set_color(cs[6])\n",
        "\n",
        "bp['whiskers'][0].set_color(cs[0])\n",
        "bp['whiskers'][1].set_color(cs[0])\n",
        "bp['whiskers'][2].set_color(cs[2])\n",
        "bp['whiskers'][3].set_color(cs[2])\n",
        "bp['whiskers'][4].set_color(cs[6])\n",
        "bp['whiskers'][5].set_color(cs[6])\n",
        "\n",
        "\n",
        "ax2.set_ylabel(\"trend [K/decade]\", fontsize = 14)\n",
        "\n",
        "ax2.set_ylim([0., 1.2])\n",
        "ax2.set_xticks([1, 2, 3])\n",
        "ax2.set_xticklabels([\"$\\\\bar{T}$\", \"$T_D$\", \"$T_M$\"], fontsize = 14)\n",
        "ax2.set_yticks([0., 0.3, 0.6, 0.9, 1.2])\n",
        "ax2.set_yticklabels([0., 0.3, 0.6, 0.9, 1.2], fontsize = 14)\n",
        "\n",
        "ax3 = plt.subplot(gs[2])\n",
        "plt.title(\"c)\", fontsize = 15, loc = \"left\")\n",
        "\n",
        "bp2 = ax3.boxplot((resp[1, :m3] * 10., resp[0, :m3] * 10., resp[2, :m4] * 10.), patch_artist=True)\n",
        "\n",
        "bp2['boxes'][0].set_color(cs[0])\n",
        "bp2['boxes'][0].set_alpha(0.5)\n",
        "bp2['boxes'][1].set_color(cs[2])\n",
        "bp2['boxes'][1].set_alpha(0.5)\n",
        "bp2['boxes'][2].set_color(cs[6])\n",
        "bp2['boxes'][2].set_alpha(0.5)\n",
        "\n",
        "bp2['medians'][0].set_color(cs[0])\n",
        "bp2['medians'][1].set_color(cs[2])\n",
        "bp2['medians'][2].set_color(cs[6])\n",
        "\n",
        "bp2['caps'][0].set_color(cs[0])\n",
        "bp2['caps'][1].set_color(cs[0])\n",
        "bp2['caps'][2].set_color(cs[2])\n",
        "bp2['caps'][3].set_color(cs[2])\n",
        "bp2['caps'][4].set_color(cs[6])\n",
        "bp2['caps'][5].set_color(cs[6])\n",
        "\n",
        "bp2['whiskers'][0].set_color(cs[0])\n",
        "bp2['whiskers'][1].set_color(cs[0])\n",
        "bp2['whiskers'][2].set_color(cs[2])\n",
        "bp2['whiskers'][3].set_color(cs[2])\n",
        "bp2['whiskers'][4].set_color(cs[6])\n",
        "bp2['whiskers'][5].set_color(cs[6])\n",
        "\n",
        "\n",
        "ax3.set_ylabel(\"$\\Delta T$\", fontsize = 14)\n",
        "\n",
        "#ax3.set_ylim([0., 1.2])\n",
        "ax3.set_xticks([1, 2, 3])\n",
        "ax3.set_xticklabels([\"$\\\\bar{T}$\", \"$T_D$\", \"$T_M$\"], fontsize = 14)\n",
        "#ax3.set_yticks([0., 0.3, 0.6, 0.9, 1.2])\n",
        "#ax3.set_yticklabels([0., 0.3, 0.6, 0.9, 1.2], fontsize = 14)"
      ]
    }
  ],
  "metadata": {
    "kernelspec": {
      "display_name": "Python 2",
      "language": "python",
      "name": "python2"
    },
    "language_info": {
      "codemirror_mode": {
        "name": "ipython",
        "version": 2
      },
      "file_extension": ".py",
      "mimetype": "text/x-python",
      "name": "python",
      "nbconvert_exporter": "python",
      "pygments_lexer": "ipython2",
      "version": "2.7.16"
    },
    "colab": {
      "provenance": []
    }
  },
  "nbformat": 4,
  "nbformat_minor": 0
}